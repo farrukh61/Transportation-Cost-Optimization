{
  "cells": [
    {
      "cell_type": "markdown",
      "metadata": {
        "id": "view-in-github",
        "colab_type": "text"
      },
      "source": [
        "<a href=\"https://colab.research.google.com/github/farrukh61/Transportation-Cost-Optimization/blob/main/Optimization_Assignment2.ipynb\" target=\"_parent\"><img src=\"https://colab.research.google.com/assets/colab-badge.svg\" alt=\"Open In Colab\"/></a>"
      ]
    },
    {
      "cell_type": "code",
      "execution_count": null,
      "id": "e0bf448e",
      "metadata": {
        "id": "e0bf448e"
      },
      "outputs": [],
      "source": [
        "import numpy as np\n",
        "from scipy.optimize import linprog\n",
        "import pandas as pd\n",
        "pd.set_option('display.float_format', '{:.2f}'.format)\n"
      ]
    },
    {
      "cell_type": "markdown",
      "id": "49e33e0a",
      "metadata": {
        "id": "49e33e0a"
      },
      "source": [
        "# Loading the data"
      ]
    },
    {
      "cell_type": "code",
      "execution_count": null,
      "id": "745ca1f5",
      "metadata": {
        "id": "745ca1f5"
      },
      "outputs": [],
      "source": [
        "\n",
        "\n",
        "frame = pd.read_excel('data.xlsx',sheet_name='frame',index_col=0)\n",
        "frame.index = frame.index.str.strip()\n",
        "frame.columns = frame.columns.str.strip()\n",
        "distance = pd.read_excel('data.xlsx',sheet_name = 'distance',index_col=0)\n",
        "distance.index = distance.index.str.strip()\n",
        "trans_cost = pd.read_excel('data.xlsx',sheet_name = 'transportation cost',skiprows=1,index_col=0)\n",
        "trans_cost.index = trans_cost.index.str.strip()\n",
        "cost_matrix = pd.read_excel('data.xlsx',sheet_name='cost matrix',skiprows=3,index_col=0,header=0)\n",
        "cost_matrix.index = cost_matrix.index.str.strip()\n",
        "frame.at['Supply', 'Peshawar'] = 267300000"
      ]
    },
    {
      "cell_type": "markdown",
      "id": "6f3df660",
      "metadata": {
        "id": "6f3df660"
      },
      "source": [
        "# Define the LPP"
      ]
    },
    {
      "cell_type": "code",
      "execution_count": null,
      "id": "6d82008b",
      "metadata": {
        "id": "6d82008b"
      },
      "outputs": [],
      "source": [
        "\n",
        "\n",
        "# cost function\n",
        "cost_function = np.hstack((cost_matrix.T.iloc[0,:-1].values,\n",
        "                           cost_matrix.T.iloc[1,:-1].values,\n",
        "                           cost_matrix.T.iloc[2,:-1].values))\n",
        "\n",
        "\n",
        "# Constraints coefficient matrix\n",
        "Aub = np.zeros((32,87))\n",
        "\n",
        "Aub[0,0:29]=1\n",
        "Aub[1,29:58]=1\n",
        "Aub[2,58:87]=1\n",
        "\n",
        "col_a = 0\n",
        "col_b = 29\n",
        "col_c = 58\n",
        "\n",
        "for index in np.arange(3,32):\n",
        "    Aub[index][col_a] = -1\n",
        "    Aub[index][col_b] = -1\n",
        "    Aub[index][col_c] = -1   \n",
        "    \n",
        "    col_a+=1\n",
        "    col_b+=1\n",
        "    col_c+=1\n",
        "\n",
        "# pd.DataFrame(Aub).to_excel('constraint matrix.xlsx')\n",
        "# os.startfile('constraint matrix.xlsx')\n",
        "\n",
        "first_3= frame.iloc[len(frame)-1,:-1].values.astype(float)\n",
        "others = -1*frame.iloc[:-1,3].values\n",
        "rhs_constraints = np.hstack((first_3,others))\n",
        "# LPP\n",
        "\n",
        "\n",
        "bounds_list = [(0, None)] * 87\n",
        "optimizer = linprog(cost_function,A_ub = Aub, bounds = bounds_list,b_ub=rhs_constraints)"
      ]
    },
    {
      "cell_type": "markdown",
      "id": "18abb15e",
      "metadata": {
        "id": "18abb15e"
      },
      "source": [
        "# Results"
      ]
    },
    {
      "cell_type": "code",
      "execution_count": null,
      "id": "e20ba47b",
      "metadata": {
        "id": "e20ba47b",
        "outputId": "90e23e58-9a8e-4583-9b51-a59bb1010bb8"
      },
      "outputs": [
        {
          "name": "stdout",
          "output_type": "stream",
          "text": [
            "Minimum value of cost function:  95873205.32719998\n"
          ]
        }
      ],
      "source": [
        "print('Minimum value of cost function: ',optimizer.fun)"
      ]
    },
    {
      "cell_type": "code",
      "execution_count": null,
      "id": "2f1d2a3f",
      "metadata": {
        "id": "2f1d2a3f",
        "outputId": "781ff140-dd08-43f7-f11f-f72c09114c79"
      },
      "outputs": [
        {
          "name": "stdout",
          "output_type": "stream",
          "text": [
            "Optimum points\n",
            "\n"
          ]
        },
        {
          "data": {
            "text/html": [
              "<div>\n",
              "<style scoped>\n",
              "    .dataframe tbody tr th:only-of-type {\n",
              "        vertical-align: middle;\n",
              "    }\n",
              "\n",
              "    .dataframe tbody tr th {\n",
              "        vertical-align: top;\n",
              "    }\n",
              "\n",
              "    .dataframe thead th {\n",
              "        text-align: right;\n",
              "    }\n",
              "</style>\n",
              "<table border=\"1\" class=\"dataframe\">\n",
              "  <thead>\n",
              "    <tr style=\"text-align: right;\">\n",
              "      <th></th>\n",
              "      <th>Optimum Values</th>\n",
              "    </tr>\n",
              "  </thead>\n",
              "  <tbody>\n",
              "    <tr>\n",
              "      <th>0</th>\n",
              "      <td>144729915.00</td>\n",
              "    </tr>\n",
              "    <tr>\n",
              "      <th>1</th>\n",
              "      <td>12080409.00</td>\n",
              "    </tr>\n",
              "    <tr>\n",
              "      <th>2</th>\n",
              "      <td>1298550.00</td>\n",
              "    </tr>\n",
              "    <tr>\n",
              "      <th>3</th>\n",
              "      <td>1347885.00</td>\n",
              "    </tr>\n",
              "    <tr>\n",
              "      <th>4</th>\n",
              "      <td>12093180.00</td>\n",
              "    </tr>\n",
              "    <tr>\n",
              "      <th>...</th>\n",
              "      <td>...</td>\n",
              "    </tr>\n",
              "    <tr>\n",
              "      <th>82</th>\n",
              "      <td>0.00</td>\n",
              "    </tr>\n",
              "    <tr>\n",
              "      <th>83</th>\n",
              "      <td>0.00</td>\n",
              "    </tr>\n",
              "    <tr>\n",
              "      <th>84</th>\n",
              "      <td>0.00</td>\n",
              "    </tr>\n",
              "    <tr>\n",
              "      <th>85</th>\n",
              "      <td>0.00</td>\n",
              "    </tr>\n",
              "    <tr>\n",
              "      <th>86</th>\n",
              "      <td>0.00</td>\n",
              "    </tr>\n",
              "  </tbody>\n",
              "</table>\n",
              "<p>87 rows × 1 columns</p>\n",
              "</div>"
            ],
            "text/plain": [
              "    Optimum Values\n",
              "0     144729915.00\n",
              "1      12080409.00\n",
              "2       1298550.00\n",
              "3       1347885.00\n",
              "4      12093180.00\n",
              "..             ...\n",
              "82            0.00\n",
              "83            0.00\n",
              "84            0.00\n",
              "85            0.00\n",
              "86            0.00\n",
              "\n",
              "[87 rows x 1 columns]"
            ]
          },
          "execution_count": 57,
          "metadata": {},
          "output_type": "execute_result"
        }
      ],
      "source": [
        "print('Optimum points\\n')\n",
        "pd.DataFrame(optimizer.x, columns=['Optimum Values'])"
      ]
    }
  ],
  "metadata": {
    "kernelspec": {
      "display_name": "Python 3 (ipykernel)",
      "language": "python",
      "name": "python3"
    },
    "language_info": {
      "codemirror_mode": {
        "name": "ipython",
        "version": 3
      },
      "file_extension": ".py",
      "mimetype": "text/x-python",
      "name": "python",
      "nbconvert_exporter": "python",
      "pygments_lexer": "ipython3",
      "version": "3.9.13"
    },
    "colab": {
      "provenance": [],
      "include_colab_link": true
    }
  },
  "nbformat": 4,
  "nbformat_minor": 5
}